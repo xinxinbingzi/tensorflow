{
  "nbformat": 4,
  "nbformat_minor": 0,
  "metadata": {
    "colab": {
      "name": "1.ipynb",
      "version": "0.3.2",
      "provenance": [],
      "collapsed_sections": [],
      "include_colab_link": true
    },
    "kernelspec": {
      "name": "python3",
      "display_name": "Python 3"
    },
    "accelerator": "GPU"
  },
  "cells": [
    {
      "cell_type": "markdown",
      "metadata": {
        "id": "view-in-github",
        "colab_type": "text"
      },
      "source": [
        "<a href=\"https://colab.research.google.com/github/xinxinbingzi/tensorflow/blob/master/Tensorboard%E6%B5%8B%E8%AF%95.ipynb\" target=\"_parent\"><img src=\"https://colab.research.google.com/assets/colab-badge.svg\" alt=\"Open In Colab\"/></a>"
      ]
    },
    {
      "cell_type": "code",
      "metadata": {
        "id": "eo1eLrYJPdJ1",
        "colab_type": "code",
        "outputId": "7d52f694-822b-4b92-9fa5-4e601cc2f8ba",
        "colab": {
          "base_uri": "https://localhost:8080/",
          "height": 202
        }
      },
      "source": [
        "import tensorflow as tf\n",
        "import numpy as np\n",
        "\n",
        "## prepare the original data\n",
        "with tf.name_scope('data'):\n",
        "     x_data = np.random.rand(100).astype(np.float32)\n",
        "     y_data = 0.3*x_data+0.1\n",
        "##creat parameters\n",
        "with tf.name_scope('parameters'):\n",
        "     weight = tf.Variable(tf.random_uniform([1],-1.0,1.0))\n",
        "     bias = tf.Variable(tf.zeros([1]))\n",
        "##get y_prediction\n",
        "with tf.name_scope('y_prediction'):\n",
        "     y_prediction = weight*x_data+bias\n",
        "##compute the loss\n",
        "with tf.name_scope('loss'):\n",
        "     loss = tf.reduce_mean(tf.square(y_data-y_prediction))\n",
        "##creat optimizer\n",
        "optimizer = tf.train.GradientDescentOptimizer(0.5)\n",
        "#creat train ,minimize the loss \n",
        "with tf.name_scope('train'):\n",
        "     train = optimizer.minimize(loss)\n",
        "#creat init\n",
        "with tf.name_scope('init'): \n",
        "     init = tf.global_variables_initializer()\n",
        "##creat a Session \n",
        "sess = tf.Session()\n",
        "##initialize\n",
        "writer = tf.summary.FileWriter(\"logs/\", sess.graph)\n",
        "sess.run(init)\n",
        "## Loop\n",
        "for step  in  range(101):\n",
        "    sess.run(train)\n",
        "    if step %10==0 :\n",
        "        print(step ,'weight:',sess.run(weight),'bias:',sess.run(bias))"
      ],
      "execution_count": 1,
      "outputs": [
        {
          "output_type": "stream",
          "text": [
            "0 weight: [-0.16460738] bias: [0.5306332]\n",
            "10 weight: [0.05702025] bias: [0.23755348]\n",
            "20 weight: [0.18994777] bias: [0.16230138]\n",
            "30 weight: [0.25015438] bias: [0.12821798]\n",
            "40 weight: [0.27742356] bias: [0.11278069]\n",
            "50 weight: [0.2897745] bias: [0.10578873]\n",
            "60 weight: [0.2953686] bias: [0.10262187]\n",
            "70 weight: [0.29790232] bias: [0.10118751]\n",
            "80 weight: [0.2990499] bias: [0.10053787]\n",
            "90 weight: [0.29956967] bias: [0.10024362]\n",
            "100 weight: [0.29980507] bias: [0.10011035]\n"
          ],
          "name": "stdout"
        }
      ]
    },
    {
      "cell_type": "code",
      "metadata": {
        "id": "wZWZSA1oPif8",
        "colab_type": "code",
        "colab": {}
      },
      "source": [
        ""
      ],
      "execution_count": 0,
      "outputs": []
    }
  ]
}