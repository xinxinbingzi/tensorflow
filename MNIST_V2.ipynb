{
  "nbformat": 4,
  "nbformat_minor": 0,
  "metadata": {
    "colab": {
      "name": "MNIST V2.ipynb",
      "version": "0.3.2",
      "provenance": [],
      "collapsed_sections": [],
      "include_colab_link": true
    },
    "kernelspec": {
      "name": "python3",
      "display_name": "Python 3"
    },
    "accelerator": "GPU"
  },
  "cells": [
    {
      "cell_type": "markdown",
      "metadata": {
        "id": "view-in-github",
        "colab_type": "text"
      },
      "source": [
        "<a href=\"https://colab.research.google.com/github/xinxinbingzi/tensorflow/blob/master/MNIST_V2.ipynb\" target=\"_parent\"><img src=\"https://colab.research.google.com/assets/colab-badge.svg\" alt=\"Open In Colab\"/></a>"
      ]
    },
    {
      "cell_type": "code",
      "metadata": {
        "id": "OrhthYKXaCsh",
        "colab_type": "code",
        "colab": {
          "base_uri": "https://localhost:8080/",
          "height": 138
        },
        "outputId": "18548f0c-ab51-4b5f-f5e7-d8094c95e971"
      },
      "source": [
        "#加载数据\n",
        "from tensorflow.examples.tutorials.mnist import input_data\n",
        "import tensorflow as tf\n",
        "mnist = input_data.read_data_sets(\"MNIST_data/\", one_hot=True)\n",
        "sess = tf.InteractiveSession()"
      ],
      "execution_count": 2,
      "outputs": [
        {
          "output_type": "stream",
          "text": [
            "Extracting MNIST_data/train-images-idx3-ubyte.gz\n",
            "Extracting MNIST_data/train-labels-idx1-ubyte.gz\n",
            "Extracting MNIST_data/t10k-images-idx3-ubyte.gz\n",
            "Extracting MNIST_data/t10k-labels-idx1-ubyte.gz\n"
          ],
          "name": "stdout"
        },
        {
          "output_type": "stream",
          "text": [
            "/usr/local/lib/python3.6/dist-packages/tensorflow/python/client/session.py:1735: UserWarning: An interactive session is already active. This can cause out-of-memory errors in some cases. You must explicitly call `InteractiveSession.close()` to release resources held by the other session(s).\n",
            "  warnings.warn('An interactive session is already active. This can '\n"
          ],
          "name": "stderr"
        }
      ]
    },
    {
      "cell_type": "code",
      "metadata": {
        "colab_type": "code",
        "id": "Bj0Fvty-uL3m",
        "colab": {}
      },
      "source": [
        "#设置参数\n",
        "in_units = 784\n",
        "h1_units = 300\n",
        "W1 = tf.Variable(tf.truncated_normal([in_units, h1_units], stddev=0.1))\n",
        "b1 = tf.Variable(tf.zeros([h1_units]))\n",
        "W2 = tf.Variable(tf.zeros([h1_units, 10]))\n",
        "b2 = tf.Variable(tf.zeros([10]))"
      ],
      "execution_count": 0,
      "outputs": []
    },
    {
      "cell_type": "code",
      "metadata": {
        "colab_type": "code",
        "id": "e67voGQ0uNIj",
        "colab": {}
      },
      "source": [
        "#定义输入\n",
        "x = tf.placeholder(tf.float32, [None, in_units])\n",
        "keep_prob = tf.placeholder(tf.float32)"
      ],
      "execution_count": 0,
      "outputs": []
    },
    {
      "cell_type": "code",
      "metadata": {
        "id": "0btOYlDdfv95",
        "colab_type": "code",
        "colab": {}
      },
      "source": [
        "#定义模型结构\n",
        "hidden1 = tf.nn.relu(tf.matmul(x,W1) + b1)\n",
        "hidden1_drop = tf.nn.dropout(hidden1, keep_prob)\n",
        "y = tf.nn.softmax(tf.matmul(hidden1_drop, W2) + b2)"
      ],
      "execution_count": 0,
      "outputs": []
    },
    {
      "cell_type": "code",
      "metadata": {
        "id": "Y9VshFqZgBEF",
        "colab_type": "code",
        "colab": {}
      },
      "source": [
        "#定义损失函数\n",
        "y_ = tf.placeholder(tf.float32, [None, 10])\n",
        "cross_entropy = tf.reduce_mean(-tf.reduce_sum(y_*tf.log(y), reduction_indices=[1]))"
      ],
      "execution_count": 0,
      "outputs": []
    },
    {
      "cell_type": "code",
      "metadata": {
        "id": "kBLU-lPrhq3F",
        "colab_type": "code",
        "colab": {
          "base_uri": "https://localhost:8080/",
          "height": 87
        },
        "outputId": "bc810e2a-ad92-42f8-996a-6535350dcfd0"
      },
      "source": [
        "#定义优化算法\n",
        "train_step = tf.train.AdagradOptimizer(0.3).minimize(cross_entropy)"
      ],
      "execution_count": 8,
      "outputs": [
        {
          "output_type": "stream",
          "text": [
            "W0802 14:35:11.406656 139989686294400 deprecation.py:506] From /usr/local/lib/python3.6/dist-packages/tensorflow/python/training/adagrad.py:76: calling Constant.__init__ (from tensorflow.python.ops.init_ops) with dtype is deprecated and will be removed in a future version.\n",
            "Instructions for updating:\n",
            "Call initializer instance with the dtype argument instead of passing it to the constructor\n"
          ],
          "name": "stderr"
        }
      ]
    },
    {
      "cell_type": "code",
      "metadata": {
        "id": "sWh-8jDiiaJu",
        "colab_type": "code",
        "colab": {}
      },
      "source": [
        "#参数初始化\n",
        "tf.global_variables_initializer().run()"
      ],
      "execution_count": 0,
      "outputs": []
    },
    {
      "cell_type": "code",
      "metadata": {
        "id": "6eb2coxzipi3",
        "colab_type": "code",
        "colab": {}
      },
      "source": [
        "#训练\n",
        "for i in range(5000):\n",
        "  batch_xs, batch_ys = mnist.train.next_batch(100)\n",
        "  train_step.run({x:batch_xs, y_:batch_ys,  keep_prob: 0.75})"
      ],
      "execution_count": 0,
      "outputs": []
    },
    {
      "cell_type": "code",
      "metadata": {
        "id": "j8Ypa0HGkEPq",
        "colab_type": "code",
        "colab": {
          "base_uri": "https://localhost:8080/",
          "height": 34
        },
        "outputId": "9e850632-c7eb-46e0-d09e-aa2db2a61c32"
      },
      "source": [
        "#验证\n",
        "correct_prediction = tf.equal(tf.argmax(y, 1), tf.argmax(y_, 1))\n",
        "accuracy = tf.reduce_mean(tf.cast(correct_prediction, tf.float32))\n",
        "accuracy.eval({x:mnist.test.images, y_:mnist.test.labels, keep_prob: 1.0})"
      ],
      "execution_count": 12,
      "outputs": [
        {
          "output_type": "execute_result",
          "data": {
            "text/plain": [
              "0.981"
            ]
          },
          "metadata": {
            "tags": []
          },
          "execution_count": 12
        }
      ]
    }
  ]
}